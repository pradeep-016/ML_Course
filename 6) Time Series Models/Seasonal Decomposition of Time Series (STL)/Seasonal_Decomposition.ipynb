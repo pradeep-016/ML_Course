{
  "nbformat": 4,
  "nbformat_minor": 0,
  "metadata": {
    "colab": {
      "provenance": []
    },
    "kernelspec": {
      "name": "python3",
      "display_name": "Python 3"
    },
    "language_info": {
      "name": "python"
    }
  },
  "cells": [
    {
      "cell_type": "code",
      "execution_count": 1,
      "metadata": {
        "colab": {
          "base_uri": "https://localhost:8080/"
        },
        "id": "lhqP-7vvwnSS",
        "outputId": "5061cac2-3556-4d03-d96f-b03677eb55b1"
      },
      "outputs": [
        {
          "output_type": "stream",
          "name": "stdout",
          "text": [
            "--2024-12-09 15:11:08--  https://media.githubusercontent.com/media/pradeep-016/ML_Course/refs/heads/main/6)%20Time%20Series%20Models/Seasonal%20Decomposition%20of%20Time%20Series%20(STL)/cinemaTicket_Ref.csv\n",
            "Resolving media.githubusercontent.com (media.githubusercontent.com)... 185.199.108.133, 185.199.109.133, 185.199.110.133, ...\n",
            "Connecting to media.githubusercontent.com (media.githubusercontent.com)|185.199.108.133|:443... connected.\n",
            "HTTP request sent, awaiting response... 200 OK\n",
            "Length: 11243610 (11M) [text/plain]\n",
            "Saving to: ‘cinemaTicket_Ref.csv’\n",
            "\n",
            "cinemaTicket_Ref.cs 100%[===================>]  10.72M  --.-KB/s    in 0.07s   \n",
            "\n",
            "2024-12-09 15:11:08 (153 MB/s) - ‘cinemaTicket_Ref.csv’ saved [11243610/11243610]\n",
            "\n"
          ]
        }
      ],
      "source": [
        "!wget \"https://media.githubusercontent.com/media/pradeep-016/ML_Course/refs/heads/main/6)%20Time%20Series%20Models/Seasonal%20Decomposition%20of%20Time%20Series%20(STL)/cinemaTicket_Ref.csv\""
      ]
    },
    {
      "cell_type": "code",
      "source": [
        "import pandas as pd\n",
        "from statsmodels.tsa.seasonal import seasonal_decompose\n",
        "import matplotlib.pyplot as plt"
      ],
      "metadata": {
        "id": "XNXaeej17PdZ"
      },
      "execution_count": 2,
      "outputs": []
    },
    {
      "cell_type": "code",
      "source": [
        "data = pd.read_csv(\"cinemaTicket_Ref.csv\")\n",
        "data.head()"
      ],
      "metadata": {
        "colab": {
          "base_uri": "https://localhost:8080/",
          "height": 293
        },
        "id": "O86oh_eo7i7s",
        "outputId": "086a0c54-4ee9-4ffb-f42f-64d049e89dbf"
      },
      "execution_count": 3,
      "outputs": [
        {
          "output_type": "execute_result",
          "data": {
            "text/plain": [
              "   film_code  cinema_code  total_sales  tickets_sold  tickets_out  show_time  \\\n",
              "0       1492          304      3900000            26            0          4   \n",
              "1       1492          352      3360000            42            0          5   \n",
              "2       1492          489      2560000            32            0          4   \n",
              "3       1492          429      1200000            12            0          1   \n",
              "4       1492          524      1200000            15            0          3   \n",
              "\n",
              "   occu_perc  ticket_price  ticket_use    capacity        date  month  \\\n",
              "0       4.26      150000.0          26  610.328638  2018-05-05      5   \n",
              "1       8.08       80000.0          42  519.801980  2018-05-05      5   \n",
              "2      20.00       80000.0          32  160.000000  2018-05-05      5   \n",
              "3      11.01      100000.0          12  108.991826  2018-05-05      5   \n",
              "4      16.67       80000.0          15   89.982004  2018-05-05      5   \n",
              "\n",
              "   quarter  day  \n",
              "0        2    5  \n",
              "1        2    5  \n",
              "2        2    5  \n",
              "3        2    5  \n",
              "4        2    5  "
            ],
            "text/html": [
              "\n",
              "  <div id=\"df-6a503565-310e-4b9b-9afa-ee427bfccbe2\" class=\"colab-df-container\">\n",
              "    <div>\n",
              "<style scoped>\n",
              "    .dataframe tbody tr th:only-of-type {\n",
              "        vertical-align: middle;\n",
              "    }\n",
              "\n",
              "    .dataframe tbody tr th {\n",
              "        vertical-align: top;\n",
              "    }\n",
              "\n",
              "    .dataframe thead th {\n",
              "        text-align: right;\n",
              "    }\n",
              "</style>\n",
              "<table border=\"1\" class=\"dataframe\">\n",
              "  <thead>\n",
              "    <tr style=\"text-align: right;\">\n",
              "      <th></th>\n",
              "      <th>film_code</th>\n",
              "      <th>cinema_code</th>\n",
              "      <th>total_sales</th>\n",
              "      <th>tickets_sold</th>\n",
              "      <th>tickets_out</th>\n",
              "      <th>show_time</th>\n",
              "      <th>occu_perc</th>\n",
              "      <th>ticket_price</th>\n",
              "      <th>ticket_use</th>\n",
              "      <th>capacity</th>\n",
              "      <th>date</th>\n",
              "      <th>month</th>\n",
              "      <th>quarter</th>\n",
              "      <th>day</th>\n",
              "    </tr>\n",
              "  </thead>\n",
              "  <tbody>\n",
              "    <tr>\n",
              "      <th>0</th>\n",
              "      <td>1492</td>\n",
              "      <td>304</td>\n",
              "      <td>3900000</td>\n",
              "      <td>26</td>\n",
              "      <td>0</td>\n",
              "      <td>4</td>\n",
              "      <td>4.26</td>\n",
              "      <td>150000.0</td>\n",
              "      <td>26</td>\n",
              "      <td>610.328638</td>\n",
              "      <td>2018-05-05</td>\n",
              "      <td>5</td>\n",
              "      <td>2</td>\n",
              "      <td>5</td>\n",
              "    </tr>\n",
              "    <tr>\n",
              "      <th>1</th>\n",
              "      <td>1492</td>\n",
              "      <td>352</td>\n",
              "      <td>3360000</td>\n",
              "      <td>42</td>\n",
              "      <td>0</td>\n",
              "      <td>5</td>\n",
              "      <td>8.08</td>\n",
              "      <td>80000.0</td>\n",
              "      <td>42</td>\n",
              "      <td>519.801980</td>\n",
              "      <td>2018-05-05</td>\n",
              "      <td>5</td>\n",
              "      <td>2</td>\n",
              "      <td>5</td>\n",
              "    </tr>\n",
              "    <tr>\n",
              "      <th>2</th>\n",
              "      <td>1492</td>\n",
              "      <td>489</td>\n",
              "      <td>2560000</td>\n",
              "      <td>32</td>\n",
              "      <td>0</td>\n",
              "      <td>4</td>\n",
              "      <td>20.00</td>\n",
              "      <td>80000.0</td>\n",
              "      <td>32</td>\n",
              "      <td>160.000000</td>\n",
              "      <td>2018-05-05</td>\n",
              "      <td>5</td>\n",
              "      <td>2</td>\n",
              "      <td>5</td>\n",
              "    </tr>\n",
              "    <tr>\n",
              "      <th>3</th>\n",
              "      <td>1492</td>\n",
              "      <td>429</td>\n",
              "      <td>1200000</td>\n",
              "      <td>12</td>\n",
              "      <td>0</td>\n",
              "      <td>1</td>\n",
              "      <td>11.01</td>\n",
              "      <td>100000.0</td>\n",
              "      <td>12</td>\n",
              "      <td>108.991826</td>\n",
              "      <td>2018-05-05</td>\n",
              "      <td>5</td>\n",
              "      <td>2</td>\n",
              "      <td>5</td>\n",
              "    </tr>\n",
              "    <tr>\n",
              "      <th>4</th>\n",
              "      <td>1492</td>\n",
              "      <td>524</td>\n",
              "      <td>1200000</td>\n",
              "      <td>15</td>\n",
              "      <td>0</td>\n",
              "      <td>3</td>\n",
              "      <td>16.67</td>\n",
              "      <td>80000.0</td>\n",
              "      <td>15</td>\n",
              "      <td>89.982004</td>\n",
              "      <td>2018-05-05</td>\n",
              "      <td>5</td>\n",
              "      <td>2</td>\n",
              "      <td>5</td>\n",
              "    </tr>\n",
              "  </tbody>\n",
              "</table>\n",
              "</div>\n",
              "    <div class=\"colab-df-buttons\">\n",
              "\n",
              "  <div class=\"colab-df-container\">\n",
              "    <button class=\"colab-df-convert\" onclick=\"convertToInteractive('df-6a503565-310e-4b9b-9afa-ee427bfccbe2')\"\n",
              "            title=\"Convert this dataframe to an interactive table.\"\n",
              "            style=\"display:none;\">\n",
              "\n",
              "  <svg xmlns=\"http://www.w3.org/2000/svg\" height=\"24px\" viewBox=\"0 -960 960 960\">\n",
              "    <path d=\"M120-120v-720h720v720H120Zm60-500h600v-160H180v160Zm220 220h160v-160H400v160Zm0 220h160v-160H400v160ZM180-400h160v-160H180v160Zm440 0h160v-160H620v160ZM180-180h160v-160H180v160Zm440 0h160v-160H620v160Z\"/>\n",
              "  </svg>\n",
              "    </button>\n",
              "\n",
              "  <style>\n",
              "    .colab-df-container {\n",
              "      display:flex;\n",
              "      gap: 12px;\n",
              "    }\n",
              "\n",
              "    .colab-df-convert {\n",
              "      background-color: #E8F0FE;\n",
              "      border: none;\n",
              "      border-radius: 50%;\n",
              "      cursor: pointer;\n",
              "      display: none;\n",
              "      fill: #1967D2;\n",
              "      height: 32px;\n",
              "      padding: 0 0 0 0;\n",
              "      width: 32px;\n",
              "    }\n",
              "\n",
              "    .colab-df-convert:hover {\n",
              "      background-color: #E2EBFA;\n",
              "      box-shadow: 0px 1px 2px rgba(60, 64, 67, 0.3), 0px 1px 3px 1px rgba(60, 64, 67, 0.15);\n",
              "      fill: #174EA6;\n",
              "    }\n",
              "\n",
              "    .colab-df-buttons div {\n",
              "      margin-bottom: 4px;\n",
              "    }\n",
              "\n",
              "    [theme=dark] .colab-df-convert {\n",
              "      background-color: #3B4455;\n",
              "      fill: #D2E3FC;\n",
              "    }\n",
              "\n",
              "    [theme=dark] .colab-df-convert:hover {\n",
              "      background-color: #434B5C;\n",
              "      box-shadow: 0px 1px 3px 1px rgba(0, 0, 0, 0.15);\n",
              "      filter: drop-shadow(0px 1px 2px rgba(0, 0, 0, 0.3));\n",
              "      fill: #FFFFFF;\n",
              "    }\n",
              "  </style>\n",
              "\n",
              "    <script>\n",
              "      const buttonEl =\n",
              "        document.querySelector('#df-6a503565-310e-4b9b-9afa-ee427bfccbe2 button.colab-df-convert');\n",
              "      buttonEl.style.display =\n",
              "        google.colab.kernel.accessAllowed ? 'block' : 'none';\n",
              "\n",
              "      async function convertToInteractive(key) {\n",
              "        const element = document.querySelector('#df-6a503565-310e-4b9b-9afa-ee427bfccbe2');\n",
              "        const dataTable =\n",
              "          await google.colab.kernel.invokeFunction('convertToInteractive',\n",
              "                                                    [key], {});\n",
              "        if (!dataTable) return;\n",
              "\n",
              "        const docLinkHtml = 'Like what you see? Visit the ' +\n",
              "          '<a target=\"_blank\" href=https://colab.research.google.com/notebooks/data_table.ipynb>data table notebook</a>'\n",
              "          + ' to learn more about interactive tables.';\n",
              "        element.innerHTML = '';\n",
              "        dataTable['output_type'] = 'display_data';\n",
              "        await google.colab.output.renderOutput(dataTable, element);\n",
              "        const docLink = document.createElement('div');\n",
              "        docLink.innerHTML = docLinkHtml;\n",
              "        element.appendChild(docLink);\n",
              "      }\n",
              "    </script>\n",
              "  </div>\n",
              "\n",
              "\n",
              "<div id=\"df-8ec062df-29fc-4886-aeee-4e9b0c48c4c9\">\n",
              "  <button class=\"colab-df-quickchart\" onclick=\"quickchart('df-8ec062df-29fc-4886-aeee-4e9b0c48c4c9')\"\n",
              "            title=\"Suggest charts\"\n",
              "            style=\"display:none;\">\n",
              "\n",
              "<svg xmlns=\"http://www.w3.org/2000/svg\" height=\"24px\"viewBox=\"0 0 24 24\"\n",
              "     width=\"24px\">\n",
              "    <g>\n",
              "        <path d=\"M19 3H5c-1.1 0-2 .9-2 2v14c0 1.1.9 2 2 2h14c1.1 0 2-.9 2-2V5c0-1.1-.9-2-2-2zM9 17H7v-7h2v7zm4 0h-2V7h2v10zm4 0h-2v-4h2v4z\"/>\n",
              "    </g>\n",
              "</svg>\n",
              "  </button>\n",
              "\n",
              "<style>\n",
              "  .colab-df-quickchart {\n",
              "      --bg-color: #E8F0FE;\n",
              "      --fill-color: #1967D2;\n",
              "      --hover-bg-color: #E2EBFA;\n",
              "      --hover-fill-color: #174EA6;\n",
              "      --disabled-fill-color: #AAA;\n",
              "      --disabled-bg-color: #DDD;\n",
              "  }\n",
              "\n",
              "  [theme=dark] .colab-df-quickchart {\n",
              "      --bg-color: #3B4455;\n",
              "      --fill-color: #D2E3FC;\n",
              "      --hover-bg-color: #434B5C;\n",
              "      --hover-fill-color: #FFFFFF;\n",
              "      --disabled-bg-color: #3B4455;\n",
              "      --disabled-fill-color: #666;\n",
              "  }\n",
              "\n",
              "  .colab-df-quickchart {\n",
              "    background-color: var(--bg-color);\n",
              "    border: none;\n",
              "    border-radius: 50%;\n",
              "    cursor: pointer;\n",
              "    display: none;\n",
              "    fill: var(--fill-color);\n",
              "    height: 32px;\n",
              "    padding: 0;\n",
              "    width: 32px;\n",
              "  }\n",
              "\n",
              "  .colab-df-quickchart:hover {\n",
              "    background-color: var(--hover-bg-color);\n",
              "    box-shadow: 0 1px 2px rgba(60, 64, 67, 0.3), 0 1px 3px 1px rgba(60, 64, 67, 0.15);\n",
              "    fill: var(--button-hover-fill-color);\n",
              "  }\n",
              "\n",
              "  .colab-df-quickchart-complete:disabled,\n",
              "  .colab-df-quickchart-complete:disabled:hover {\n",
              "    background-color: var(--disabled-bg-color);\n",
              "    fill: var(--disabled-fill-color);\n",
              "    box-shadow: none;\n",
              "  }\n",
              "\n",
              "  .colab-df-spinner {\n",
              "    border: 2px solid var(--fill-color);\n",
              "    border-color: transparent;\n",
              "    border-bottom-color: var(--fill-color);\n",
              "    animation:\n",
              "      spin 1s steps(1) infinite;\n",
              "  }\n",
              "\n",
              "  @keyframes spin {\n",
              "    0% {\n",
              "      border-color: transparent;\n",
              "      border-bottom-color: var(--fill-color);\n",
              "      border-left-color: var(--fill-color);\n",
              "    }\n",
              "    20% {\n",
              "      border-color: transparent;\n",
              "      border-left-color: var(--fill-color);\n",
              "      border-top-color: var(--fill-color);\n",
              "    }\n",
              "    30% {\n",
              "      border-color: transparent;\n",
              "      border-left-color: var(--fill-color);\n",
              "      border-top-color: var(--fill-color);\n",
              "      border-right-color: var(--fill-color);\n",
              "    }\n",
              "    40% {\n",
              "      border-color: transparent;\n",
              "      border-right-color: var(--fill-color);\n",
              "      border-top-color: var(--fill-color);\n",
              "    }\n",
              "    60% {\n",
              "      border-color: transparent;\n",
              "      border-right-color: var(--fill-color);\n",
              "    }\n",
              "    80% {\n",
              "      border-color: transparent;\n",
              "      border-right-color: var(--fill-color);\n",
              "      border-bottom-color: var(--fill-color);\n",
              "    }\n",
              "    90% {\n",
              "      border-color: transparent;\n",
              "      border-bottom-color: var(--fill-color);\n",
              "    }\n",
              "  }\n",
              "</style>\n",
              "\n",
              "  <script>\n",
              "    async function quickchart(key) {\n",
              "      const quickchartButtonEl =\n",
              "        document.querySelector('#' + key + ' button');\n",
              "      quickchartButtonEl.disabled = true;  // To prevent multiple clicks.\n",
              "      quickchartButtonEl.classList.add('colab-df-spinner');\n",
              "      try {\n",
              "        const charts = await google.colab.kernel.invokeFunction(\n",
              "            'suggestCharts', [key], {});\n",
              "      } catch (error) {\n",
              "        console.error('Error during call to suggestCharts:', error);\n",
              "      }\n",
              "      quickchartButtonEl.classList.remove('colab-df-spinner');\n",
              "      quickchartButtonEl.classList.add('colab-df-quickchart-complete');\n",
              "    }\n",
              "    (() => {\n",
              "      let quickchartButtonEl =\n",
              "        document.querySelector('#df-8ec062df-29fc-4886-aeee-4e9b0c48c4c9 button');\n",
              "      quickchartButtonEl.style.display =\n",
              "        google.colab.kernel.accessAllowed ? 'block' : 'none';\n",
              "    })();\n",
              "  </script>\n",
              "</div>\n",
              "\n",
              "    </div>\n",
              "  </div>\n"
            ],
            "application/vnd.google.colaboratory.intrinsic+json": {
              "type": "dataframe",
              "variable_name": "data"
            }
          },
          "metadata": {},
          "execution_count": 3
        }
      ]
    },
    {
      "cell_type": "code",
      "source": [
        "data.info()"
      ],
      "metadata": {
        "colab": {
          "base_uri": "https://localhost:8080/"
        },
        "id": "Dx0D7JP67kZc",
        "outputId": "2a5c4526-a786-4e88-e5d7-54c4e367cc34"
      },
      "execution_count": 4,
      "outputs": [
        {
          "output_type": "stream",
          "name": "stdout",
          "text": [
            "<class 'pandas.core.frame.DataFrame'>\n",
            "RangeIndex: 142524 entries, 0 to 142523\n",
            "Data columns (total 14 columns):\n",
            " #   Column        Non-Null Count   Dtype  \n",
            "---  ------        --------------   -----  \n",
            " 0   film_code     142524 non-null  int64  \n",
            " 1   cinema_code   142524 non-null  int64  \n",
            " 2   total_sales   142524 non-null  int64  \n",
            " 3   tickets_sold  142524 non-null  int64  \n",
            " 4   tickets_out   142524 non-null  int64  \n",
            " 5   show_time     142524 non-null  int64  \n",
            " 6   occu_perc     142399 non-null  float64\n",
            " 7   ticket_price  142524 non-null  float64\n",
            " 8   ticket_use    142524 non-null  int64  \n",
            " 9   capacity      142399 non-null  float64\n",
            " 10  date          142524 non-null  object \n",
            " 11  month         142524 non-null  int64  \n",
            " 12  quarter       142524 non-null  int64  \n",
            " 13  day           142524 non-null  int64  \n",
            "dtypes: float64(3), int64(10), object(1)\n",
            "memory usage: 15.2+ MB\n"
          ]
        }
      ]
    },
    {
      "cell_type": "code",
      "source": [
        "data['date'] = pd.to_datetime(data['date'])"
      ],
      "metadata": {
        "id": "nHxhKxT27oVq"
      },
      "execution_count": 5,
      "outputs": []
    },
    {
      "cell_type": "code",
      "source": [
        "data.duplicated().sum()"
      ],
      "metadata": {
        "colab": {
          "base_uri": "https://localhost:8080/"
        },
        "id": "g9Enyn3F7uAA",
        "outputId": "b48ad482-793b-4167-d3b4-b2a343aead49"
      },
      "execution_count": 6,
      "outputs": [
        {
          "output_type": "execute_result",
          "data": {
            "text/plain": [
              "106"
            ]
          },
          "metadata": {},
          "execution_count": 6
        }
      ]
    },
    {
      "cell_type": "code",
      "source": [
        "data = data.drop_duplicates()"
      ],
      "metadata": {
        "id": "Pg4bh98F7ydD"
      },
      "execution_count": 7,
      "outputs": []
    },
    {
      "cell_type": "code",
      "source": [
        "time_series = data.groupby('date')['tickets_sold'].sum()"
      ],
      "metadata": {
        "id": "I69c_U3k7_4y"
      },
      "execution_count": 8,
      "outputs": []
    },
    {
      "cell_type": "code",
      "source": [
        "time_series = time_series.asfreq('D', fill_value=0)"
      ],
      "metadata": {
        "id": "Xh1KUnjB73PC"
      },
      "execution_count": 9,
      "outputs": []
    },
    {
      "cell_type": "code",
      "source": [
        "decomposition = seasonal_decompose(time_series, model='additive', period = 7)"
      ],
      "metadata": {
        "id": "72eKCZgf8e5j"
      },
      "execution_count": 10,
      "outputs": []
    },
    {
      "cell_type": "code",
      "source": [
        "plt.figure(figsize = (12, 6))\n",
        "decomposition.plot()\n",
        "plt.suptitle(\"Seasonal Decomposition of Cinema Ticket Sales\")\n",
        "plt.show()"
      ],
      "metadata": {
        "colab": {
          "base_uri": "https://localhost:8080/",
          "height": 509
        },
        "id": "r1TEm6kM8pAI",
        "outputId": "6a9e8580-04b9-4b77-c103-a7001f3f9636"
      },
      "execution_count": 11,
      "outputs": [
        {
          "output_type": "display_data",
          "data": {
            "text/plain": [
              "<Figure size 1200x600 with 0 Axes>"
            ]
          },
          "metadata": {}
        },
        {
          "output_type": "display_data",
          "data": {
            "text/plain": [
              "<Figure size 640x480 with 4 Axes>"
            ],
            "image/png": "[encoded data removed]"
          },
          "metadata": {}
        }
      ]
    },
    {
      "cell_type": "code",
      "source": [
        "trend = decomposition.trend\n",
        "seasonal = decomposition.seasonal\n",
        "resid = decomposition.resid"
      ],
      "metadata": {
        "id": "UWTxlCP59Byd"
      },
      "execution_count": 12,
      "outputs": []
    },
    {
      "cell_type": "code",
      "source": [
        "print(\"Trend:\")\n",
        "print(trend.head())\n",
        "print(\"\\nSeasonality:\")\n",
        "print(seasonal.head())\n",
        "print(\"\\nResiduals:\")\n",
        "print(resid.head())"
      ],
      "metadata": {
        "colab": {
          "base_uri": "https://localhost:8080/"
        },
        "id": "oJxfj2349QYf",
        "outputId": "e53131b8-7452-4993-9eb3-20a64d2c71c2"
      },
      "execution_count": 13,
      "outputs": [
        {
          "output_type": "stream",
          "name": "stdout",
          "text": [
            "Trend:\n",
            "date\n",
            "2018-02-21          NaN\n",
            "2018-02-22          NaN\n",
            "2018-02-23          NaN\n",
            "2018-02-24    38.571429\n",
            "2018-02-25     0.428571\n",
            "Freq: D, Name: trend, dtype: float64\n",
            "\n",
            "Seasonality:\n",
            "date\n",
            "2018-02-21   -15534.507321\n",
            "2018-02-22     8868.258552\n",
            "2018-02-23    23104.821704\n",
            "2018-02-24   -20164.455734\n",
            "2018-02-25   -33316.654146\n",
            "Freq: D, Name: seasonal, dtype: float64\n",
            "\n",
            "Residuals:\n",
            "date\n",
            "2018-02-21             NaN\n",
            "2018-02-22             NaN\n",
            "2018-02-23             NaN\n",
            "2018-02-24    20125.884305\n",
            "2018-02-25    33316.225575\n",
            "Freq: D, Name: resid, dtype: float64\n"
          ]
        }
      ]
    },
    {
      "cell_type": "code",
      "source": [],
      "metadata": {
        "id": "mC1I3H-99TJU"
      },
      "execution_count": 13,
      "outputs": []
    }
  ]
}