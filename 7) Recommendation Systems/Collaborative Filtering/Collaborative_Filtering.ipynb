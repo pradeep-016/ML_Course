{
  "nbformat": 4,
  "nbformat_minor": 0,
  "metadata": {
    "colab": {
      "provenance": []
    },
    "kernelspec": {
      "name": "python3",
      "display_name": "Python 3"
    },
    "language_info": {
      "name": "python"
    }
  },
  "cells": [
    {
      "cell_type": "code",
      "execution_count": 1,
      "metadata": {
        "colab": {
          "base_uri": "https://localhost:8080/"
        },
        "id": "KcgEXoPrKiWu",
        "outputId": "ae494bcc-33d6-47b7-abf5-fbf726bc8582"
      },
      "outputs": [
        {
          "output_type": "stream",
          "name": "stdout",
          "text": [
            "--2024-12-06 14:40:48--  https://media.githubusercontent.com/media/pradeep-016/ML_Course/refs/heads/main/7)%20Recommendation%20Systems/Collaborative%20Filtering/mobile_recommendation_system_dataset.csv\n",
            "Resolving media.githubusercontent.com (media.githubusercontent.com)... 185.199.108.133, 185.199.109.133, 185.199.110.133, ...\n",
            "Connecting to media.githubusercontent.com (media.githubusercontent.com)|185.199.108.133|:443... connected.\n",
            "HTTP request sent, awaiting response... 200 OK\n",
            "Length: 1379386 (1.3M) [text/plain]\n",
            "Saving to: ‘mobile_recommendation_system_dataset.csv’\n",
            "\n",
            "mobile_recommendati 100%[===================>]   1.32M  4.77MB/s    in 0.3s    \n",
            "\n",
            "2024-12-06 14:40:49 (4.77 MB/s) - ‘mobile_recommendation_system_dataset.csv’ saved [1379386/1379386]\n",
            "\n"
          ]
        }
      ],
      "source": [
        "!wget \"https://media.githubusercontent.com/media/pradeep-016/ML_Course/refs/heads/main/7)%20Recommendation%20Systems/Collaborative%20Filtering/mobile_recommendation_system_dataset.csv\""
      ]
    },
    {
      "cell_type": "code",
      "source": [
        "!pip install scikit-surprise"
      ],
      "metadata": {
        "colab": {
          "base_uri": "https://localhost:8080/"
        },
        "id": "p9xO2HkqQloY",
        "outputId": "c8fa2592-30aa-462d-e178-fca5e15a1c53"
      },
      "execution_count": 2,
      "outputs": [
        {
          "output_type": "stream",
          "name": "stdout",
          "text": [
            "Collecting scikit-surprise\n",
            "  Downloading scikit_surprise-1.1.4.tar.gz (154 kB)\n",
            "\u001b[?25l     \u001b[90m━━━━━━━━━━━━━━━━━━━━━━━━━━━━━━━━━━━━━━━━\u001b[0m \u001b[32m0.0/154.4 kB\u001b[0m \u001b[31m?\u001b[0m eta \u001b[36m-:--:--\u001b[0m\r\u001b[2K     \u001b[91m━━━━━━━━━━━━━━━━━━━━━━━━━━━━━━━━━━━━━━━\u001b[0m\u001b[91m╸\u001b[0m \u001b[32m153.6/154.4 kB\u001b[0m \u001b[31m4.7 MB/s\u001b[0m eta \u001b[36m0:00:01\u001b[0m\r\u001b[2K     \u001b[90m━━━━━━━━━━━━━━━━━━━━━━━━━━━━━━━━━━━━━━━━\u001b[0m \u001b[32m154.4/154.4 kB\u001b[0m \u001b[31m3.4 MB/s\u001b[0m eta \u001b[36m0:00:00\u001b[0m\n",
            "\u001b[?25h  Installing build dependencies ... \u001b[?25l\u001b[?25hdone\n",
            "  Getting requirements to build wheel ... \u001b[?25l\u001b[?25hdone\n",
            "  Preparing metadata (pyproject.toml) ... \u001b[?25l\u001b[?25hdone\n",
            "Requirement already satisfied: joblib>=1.2.0 in /usr/local/lib/python3.10/dist-packages (from scikit-surprise) (1.4.2)\n",
            "Requirement already satisfied: numpy>=1.19.5 in /usr/local/lib/python3.10/dist-packages (from scikit-surprise) (1.26.4)\n",
            "Requirement already satisfied: scipy>=1.6.0 in /usr/local/lib/python3.10/dist-packages (from scikit-surprise) (1.13.1)\n",
            "Building wheels for collected packages: scikit-surprise\n",
            "  Building wheel for scikit-surprise (pyproject.toml) ... \u001b[?25l\u001b[?25hdone\n",
            "  Created wheel for scikit-surprise: filename=scikit_surprise-1.1.4-cp310-cp310-linux_x86_64.whl size=2357261 sha256=560f51597fb072af3e0516eb9dc732ad4f15322ec05bf0e53b66dd7e1be651c1\n",
            "  Stored in directory: /root/.cache/pip/wheels/4b/3f/df/6acbf0a40397d9bf3ff97f582cc22fb9ce66adde75bc71fd54\n",
            "Successfully built scikit-surprise\n",
            "Installing collected packages: scikit-surprise\n",
            "Successfully installed scikit-surprise-1.1.4\n"
          ]
        }
      ]
    },
    {
      "cell_type": "code",
      "source": [
        "import pandas as pd\n",
        "import numpy as np\n",
        "from surprise import Reader, Dataset, SVD\n",
        "from surprise.model_selection import train_test_split\n",
        "from surprise import accuracy"
      ],
      "metadata": {
        "id": "UnI9tzGDQUHc"
      },
      "execution_count": 3,
      "outputs": []
    },
    {
      "cell_type": "code",
      "source": [
        "data = pd.read_csv('mobile_recommendation_system_dataset.csv')"
      ],
      "metadata": {
        "id": "ILMEnB0JQgpB"
      },
      "execution_count": 4,
      "outputs": []
    },
    {
      "cell_type": "code",
      "source": [
        "data.head()"
      ],
      "metadata": {
        "colab": {
          "base_uri": "https://localhost:8080/",
          "height": 206
        },
        "id": "8mQ6QlbFRX7M",
        "outputId": "55f5e2e0-17fa-4894-8544-1d2e175e9c8b"
      },
      "execution_count": 5,
      "outputs": [
        {
          "output_type": "execute_result",
          "data": {
            "text/plain": [
              "                                        name  ratings    price  \\\n",
              "0  REDMI Note 12 Pro 5G (Onyx Black, 128 GB)      4.2    23999   \n",
              "1        OPPO F11 Pro (Aurora Green, 128 GB)      4.5  ₹20,999   \n",
              "2     REDMI Note 11 (Starburst White, 64 GB)      4.2    13149   \n",
              "3     OnePlus Nord CE 5G (Blue Void, 256 GB)      4.1    21999   \n",
              "4        APPLE iPhone 13 mini (Blue, 128 GB)      4.6     3537   \n",
              "\n",
              "                                              imgURL  \\\n",
              "0  https://rukminim2.flixcart.com/image/312/312/x...   \n",
              "1  https://rukminim2.flixcart.com/image/312/312/k...   \n",
              "2  https://rukminim2.flixcart.com/image/312/312/x...   \n",
              "3  https://rukminim2.flixcart.com/image/312/312/x...   \n",
              "4  https://rukminim2.flixcart.com/image/312/312/k...   \n",
              "\n",
              "                                              corpus  \n",
              "0  Storage128 GBRAM6  SystemAndroid 12Processor T...  \n",
              "1  Storage128 GBRAM6 GBExpandable Storage256GB  S...  \n",
              "2  Storage64 GBRAM4  SystemAndroid 11Processor Sp...  \n",
              "3  Storage256 GBRAM12  SystemAndroid Q 11Processo...  \n",
              "4  Storage128  SystemiOS 15Processor TypeA15 Bion...  "
            ],
            "text/html": [
              "\n",
              "  <div id=\"df-d1851856-e2be-4614-9bdd-f3acf0c0e532\" class=\"colab-df-container\">\n",
              "    <div>\n",
              "<style scoped>\n",
              "    .dataframe tbody tr th:only-of-type {\n",
              "        vertical-align: middle;\n",
              "    }\n",
              "\n",
              "    .dataframe tbody tr th {\n",
              "        vertical-align: top;\n",
              "    }\n",
              "\n",
              "    .dataframe thead th {\n",
              "        text-align: right;\n",
              "    }\n",
              "</style>\n",
              "<table border=\"1\" class=\"dataframe\">\n",
              "  <thead>\n",
              "    <tr style=\"text-align: right;\">\n",
              "      <th></th>\n",
              "      <th>name</th>\n",
              "      <th>ratings</th>\n",
              "      <th>price</th>\n",
              "      <th>imgURL</th>\n",
              "      <th>corpus</th>\n",
              "    </tr>\n",
              "  </thead>\n",
              "  <tbody>\n",
              "    <tr>\n",
              "      <th>0</th>\n",
              "      <td>REDMI Note 12 Pro 5G (Onyx Black, 128 GB)</td>\n",
              "      <td>4.2</td>\n",
              "      <td>23999</td>\n",
              "      <td>https://rukminim2.flixcart.com/image/312/312/x...</td>\n",
              "      <td>Storage128 GBRAM6  SystemAndroid 12Processor T...</td>\n",
              "    </tr>\n",
              "    <tr>\n",
              "      <th>1</th>\n",
              "      <td>OPPO F11 Pro (Aurora Green, 128 GB)</td>\n",
              "      <td>4.5</td>\n",
              "      <td>₹20,999</td>\n",
              "      <td>https://rukminim2.flixcart.com/image/312/312/k...</td>\n",
              "      <td>Storage128 GBRAM6 GBExpandable Storage256GB  S...</td>\n",
              "    </tr>\n",
              "    <tr>\n",
              "      <th>2</th>\n",
              "      <td>REDMI Note 11 (Starburst White, 64 GB)</td>\n",
              "      <td>4.2</td>\n",
              "      <td>13149</td>\n",
              "      <td>https://rukminim2.flixcart.com/image/312/312/x...</td>\n",
              "      <td>Storage64 GBRAM4  SystemAndroid 11Processor Sp...</td>\n",
              "    </tr>\n",
              "    <tr>\n",
              "      <th>3</th>\n",
              "      <td>OnePlus Nord CE 5G (Blue Void, 256 GB)</td>\n",
              "      <td>4.1</td>\n",
              "      <td>21999</td>\n",
              "      <td>https://rukminim2.flixcart.com/image/312/312/x...</td>\n",
              "      <td>Storage256 GBRAM12  SystemAndroid Q 11Processo...</td>\n",
              "    </tr>\n",
              "    <tr>\n",
              "      <th>4</th>\n",
              "      <td>APPLE iPhone 13 mini (Blue, 128 GB)</td>\n",
              "      <td>4.6</td>\n",
              "      <td>3537</td>\n",
              "      <td>https://rukminim2.flixcart.com/image/312/312/k...</td>\n",
              "      <td>Storage128  SystemiOS 15Processor TypeA15 Bion...</td>\n",
              "    </tr>\n",
              "  </tbody>\n",
              "</table>\n",
              "</div>\n",
              "    <div class=\"colab-df-buttons\">\n",
              "\n",
              "  <div class=\"colab-df-container\">\n",
              "    <button class=\"colab-df-convert\" onclick=\"convertToInteractive('df-d1851856-e2be-4614-9bdd-f3acf0c0e532')\"\n",
              "            title=\"Convert this dataframe to an interactive table.\"\n",
              "            style=\"display:none;\">\n",
              "\n",
              "  <svg xmlns=\"http://www.w3.org/2000/svg\" height=\"24px\" viewBox=\"0 -960 960 960\">\n",
              "    <path d=\"M120-120v-720h720v720H120Zm60-500h600v-160H180v160Zm220 220h160v-160H400v160Zm0 220h160v-160H400v160ZM180-400h160v-160H180v160Zm440 0h160v-160H620v160ZM180-180h160v-160H180v160Zm440 0h160v-160H620v160Z\"/>\n",
              "  </svg>\n",
              "    </button>\n",
              "\n",
              "  <style>\n",
              "    .colab-df-container {\n",
              "      display:flex;\n",
              "      gap: 12px;\n",
              "    }\n",
              "\n",
              "    .colab-df-convert {\n",
              "      background-color: #E8F0FE;\n",
              "      border: none;\n",
              "      border-radius: 50%;\n",
              "      cursor: pointer;\n",
              "      display: none;\n",
              "      fill: #1967D2;\n",
              "      height: 32px;\n",
              "      padding: 0 0 0 0;\n",
              "      width: 32px;\n",
              "    }\n",
              "\n",
              "    .colab-df-convert:hover {\n",
              "      background-color: #E2EBFA;\n",
              "      box-shadow: 0px 1px 2px rgba(60, 64, 67, 0.3), 0px 1px 3px 1px rgba(60, 64, 67, 0.15);\n",
              "      fill: #174EA6;\n",
              "    }\n",
              "\n",
              "    .colab-df-buttons div {\n",
              "      margin-bottom: 4px;\n",
              "    }\n",
              "\n",
              "    [theme=dark] .colab-df-convert {\n",
              "      background-color: #3B4455;\n",
              "      fill: #D2E3FC;\n",
              "    }\n",
              "\n",
              "    [theme=dark] .colab-df-convert:hover {\n",
              "      background-color: #434B5C;\n",
              "      box-shadow: 0px 1px 3px 1px rgba(0, 0, 0, 0.15);\n",
              "      filter: drop-shadow(0px 1px 2px rgba(0, 0, 0, 0.3));\n",
              "      fill: #FFFFFF;\n",
              "    }\n",
              "  </style>\n",
              "\n",
              "    <script>\n",
              "      const buttonEl =\n",
              "        document.querySelector('#df-d1851856-e2be-4614-9bdd-f3acf0c0e532 button.colab-df-convert');\n",
              "      buttonEl.style.display =\n",
              "        google.colab.kernel.accessAllowed ? 'block' : 'none';\n",
              "\n",
              "      async function convertToInteractive(key) {\n",
              "        const element = document.querySelector('#df-d1851856-e2be-4614-9bdd-f3acf0c0e532');\n",
              "        const dataTable =\n",
              "          await google.colab.kernel.invokeFunction('convertToInteractive',\n",
              "                                                    [key], {});\n",
              "        if (!dataTable) return;\n",
              "\n",
              "        const docLinkHtml = 'Like what you see? Visit the ' +\n",
              "          '<a target=\"_blank\" href=https://colab.research.google.com/notebooks/data_table.ipynb>data table notebook</a>'\n",
              "          + ' to learn more about interactive tables.';\n",
              "        element.innerHTML = '';\n",
              "        dataTable['output_type'] = 'display_data';\n",
              "        await google.colab.output.renderOutput(dataTable, element);\n",
              "        const docLink = document.createElement('div');\n",
              "        docLink.innerHTML = docLinkHtml;\n",
              "        element.appendChild(docLink);\n",
              "      }\n",
              "    </script>\n",
              "  </div>\n",
              "\n",
              "\n",
              "<div id=\"df-64845787-5841-475a-9ab7-9b55ebde1348\">\n",
              "  <button class=\"colab-df-quickchart\" onclick=\"quickchart('df-64845787-5841-475a-9ab7-9b55ebde1348')\"\n",
              "            title=\"Suggest charts\"\n",
              "            style=\"display:none;\">\n",
              "\n",
              "<svg xmlns=\"http://www.w3.org/2000/svg\" height=\"24px\"viewBox=\"0 0 24 24\"\n",
              "     width=\"24px\">\n",
              "    <g>\n",
              "        <path d=\"M19 3H5c-1.1 0-2 .9-2 2v14c0 1.1.9 2 2 2h14c1.1 0 2-.9 2-2V5c0-1.1-.9-2-2-2zM9 17H7v-7h2v7zm4 0h-2V7h2v10zm4 0h-2v-4h2v4z\"/>\n",
              "    </g>\n",
              "</svg>\n",
              "  </button>\n",
              "\n",
              "<style>\n",
              "  .colab-df-quickchart {\n",
              "      --bg-color: #E8F0FE;\n",
              "      --fill-color: #1967D2;\n",
              "      --hover-bg-color: #E2EBFA;\n",
              "      --hover-fill-color: #174EA6;\n",
              "      --disabled-fill-color: #AAA;\n",
              "      --disabled-bg-color: #DDD;\n",
              "  }\n",
              "\n",
              "  [theme=dark] .colab-df-quickchart {\n",
              "      --bg-color: #3B4455;\n",
              "      --fill-color: #D2E3FC;\n",
              "      --hover-bg-color: #434B5C;\n",
              "      --hover-fill-color: #FFFFFF;\n",
              "      --disabled-bg-color: #3B4455;\n",
              "      --disabled-fill-color: #666;\n",
              "  }\n",
              "\n",
              "  .colab-df-quickchart {\n",
              "    background-color: var(--bg-color);\n",
              "    border: none;\n",
              "    border-radius: 50%;\n",
              "    cursor: pointer;\n",
              "    display: none;\n",
              "    fill: var(--fill-color);\n",
              "    height: 32px;\n",
              "    padding: 0;\n",
              "    width: 32px;\n",
              "  }\n",
              "\n",
              "  .colab-df-quickchart:hover {\n",
              "    background-color: var(--hover-bg-color);\n",
              "    box-shadow: 0 1px 2px rgba(60, 64, 67, 0.3), 0 1px 3px 1px rgba(60, 64, 67, 0.15);\n",
              "    fill: var(--button-hover-fill-color);\n",
              "  }\n",
              "\n",
              "  .colab-df-quickchart-complete:disabled,\n",
              "  .colab-df-quickchart-complete:disabled:hover {\n",
              "    background-color: var(--disabled-bg-color);\n",
              "    fill: var(--disabled-fill-color);\n",
              "    box-shadow: none;\n",
              "  }\n",
              "\n",
              "  .colab-df-spinner {\n",
              "    border: 2px solid var(--fill-color);\n",
              "    border-color: transparent;\n",
              "    border-bottom-color: var(--fill-color);\n",
              "    animation:\n",
              "      spin 1s steps(1) infinite;\n",
              "  }\n",
              "\n",
              "  @keyframes spin {\n",
              "    0% {\n",
              "      border-color: transparent;\n",
              "      border-bottom-color: var(--fill-color);\n",
              "      border-left-color: var(--fill-color);\n",
              "    }\n",
              "    20% {\n",
              "      border-color: transparent;\n",
              "      border-left-color: var(--fill-color);\n",
              "      border-top-color: var(--fill-color);\n",
              "    }\n",
              "    30% {\n",
              "      border-color: transparent;\n",
              "      border-left-color: var(--fill-color);\n",
              "      border-top-color: var(--fill-color);\n",
              "      border-right-color: var(--fill-color);\n",
              "    }\n",
              "    40% {\n",
              "      border-color: transparent;\n",
              "      border-right-color: var(--fill-color);\n",
              "      border-top-color: var(--fill-color);\n",
              "    }\n",
              "    60% {\n",
              "      border-color: transparent;\n",
              "      border-right-color: var(--fill-color);\n",
              "    }\n",
              "    80% {\n",
              "      border-color: transparent;\n",
              "      border-right-color: var(--fill-color);\n",
              "      border-bottom-color: var(--fill-color);\n",
              "    }\n",
              "    90% {\n",
              "      border-color: transparent;\n",
              "      border-bottom-color: var(--fill-color);\n",
              "    }\n",
              "  }\n",
              "</style>\n",
              "\n",
              "  <script>\n",
              "    async function quickchart(key) {\n",
              "      const quickchartButtonEl =\n",
              "        document.querySelector('#' + key + ' button');\n",
              "      quickchartButtonEl.disabled = true;  // To prevent multiple clicks.\n",
              "      quickchartButtonEl.classList.add('colab-df-spinner');\n",
              "      try {\n",
              "        const charts = await google.colab.kernel.invokeFunction(\n",
              "            'suggestCharts', [key], {});\n",
              "      } catch (error) {\n",
              "        console.error('Error during call to suggestCharts:', error);\n",
              "      }\n",
              "      quickchartButtonEl.classList.remove('colab-df-spinner');\n",
              "      quickchartButtonEl.classList.add('colab-df-quickchart-complete');\n",
              "    }\n",
              "    (() => {\n",
              "      let quickchartButtonEl =\n",
              "        document.querySelector('#df-64845787-5841-475a-9ab7-9b55ebde1348 button');\n",
              "      quickchartButtonEl.style.display =\n",
              "        google.colab.kernel.accessAllowed ? 'block' : 'none';\n",
              "    })();\n",
              "  </script>\n",
              "</div>\n",
              "\n",
              "    </div>\n",
              "  </div>\n"
            ],
            "application/vnd.google.colaboratory.intrinsic+json": {
              "type": "dataframe",
              "variable_name": "data",
              "summary": "{\n  \"name\": \"data\",\n  \"rows\": 2546,\n  \"fields\": [\n    {\n      \"column\": \"name\",\n      \"properties\": {\n        \"dtype\": \"string\",\n        \"num_unique_values\": 2134,\n        \"samples\": [\n          \"vivo Y12G (Phantom Black, 32 GB)\",\n          \"OPPO A31 (Fantasy White, 128 GB)\",\n          \"Redmi K20 Pro (Pearl White, 128 GB)\"\n        ],\n        \"semantic_type\": \"\",\n        \"description\": \"\"\n      }\n    },\n    {\n      \"column\": \"ratings\",\n      \"properties\": {\n        \"dtype\": \"number\",\n        \"std\": 0.21469129061045925,\n        \"min\": 2.9,\n        \"max\": 5.0,\n        \"num_unique_values\": 19,\n        \"samples\": [\n          4.2,\n          4.0,\n          3.6\n        ],\n        \"semantic_type\": \"\",\n        \"description\": \"\"\n      }\n    },\n    {\n      \"column\": \"price\",\n      \"properties\": {\n        \"dtype\": \"category\",\n        \"num_unique_values\": 758,\n        \"samples\": [\n          \"26499\",\n          \"\\u20b914,999\",\n          \"\\u20b945,999\"\n        ],\n        \"semantic_type\": \"\",\n        \"description\": \"\"\n      }\n    },\n    {\n      \"column\": \"imgURL\",\n      \"properties\": {\n        \"dtype\": \"string\",\n        \"num_unique_values\": 1674,\n        \"samples\": [\n          \"https://rukminim2.flixcart.com/image/312/312/l5bd5zk0/mobile/6/i/r/note-5-x604-infinix-original-imaf9f3exducpvyt.jpeg?q=70\",\n          \"https://rukminim2.flixcart.com/image/312/312/mobile/f/h/u/apple-iphone-6s-plus-na-original-imaebyngvzmrsyfu.jpeg?q=70\",\n          \"https://rukminim2.flixcart.com/image/312/312/xif0q/mobile/h/t/l/spark-10-pro-k17-tecno-original-imagznv2dprqyng3.jpeg?q=70\"\n        ],\n        \"semantic_type\": \"\",\n        \"description\": \"\"\n      }\n    },\n    {\n      \"column\": \"corpus\",\n      \"properties\": {\n        \"dtype\": \"string\",\n        \"num_unique_values\": 1603,\n        \"samples\": [\n          \"Storage128 GBRAM8 GBExpandable Storage1TB  SystemAndroid 11Processor TypeMediaTek Dimensity 700Processor Speed2.2 13MP 2MP 2MP 13MP 2MP 2MP 8MP 8MP 5G Capacity5000 Display Size16.56 cm (6.52 inch)Resolution1600 x 720 PixelsResolution TypeHD+GPUMali-G57 MC2 (at 730 MHz)Display TypeHD+ DisplayDisplay Colors16.7MOther Display Features60 Hz Refresh Rate, 88.7% Screen-to-Body Ratio, Ultra Clear Eyecare Diplay\",\n          \"Storage2.27 MBRAM4  SystemSeries 30Processor TypeNAProcessor Speed208 3MP 3G Capacity1000 Display Size5.16 cm (2.03 inch)Resolution128.16\",\n          \"Storage128 GBRAM4 GBExpandable Storage256GB  SystemAndroid Pie 9Processor TypeHelio P65 (MT6768)Processor Speed2 16MP 8MP 2MP 16MP 32MP 3G Capacity4500 Display Size16.21 cm (6.38 inch)Resolution1080 x 2340 PixelsResolution TypeFull HD+GPUARM Mali G52Display TypeSuper AMOLEDOther Display FeaturesBezel - Top: 2.25mm / Side: 1.87mm / Bottom 5.46mm, Screen to Body Ratio - 90%, Capacitive Multi Touch Screen\"\n        ],\n        \"semantic_type\": \"\",\n        \"description\": \"\"\n      }\n    }\n  ]\n}"
            }
          },
          "metadata": {},
          "execution_count": 5
        }
      ]
    },
    {
      "cell_type": "code",
      "source": [
        "num_users = 10\n",
        "data['user_id'] = np.random.randint(1, num_users + 1, len(data))"
      ],
      "metadata": {
        "id": "rTcbEH1JSib4"
      },
      "execution_count": 6,
      "outputs": []
    },
    {
      "cell_type": "code",
      "source": [
        "data['item_id'] = data['name'].factorize()[0]+1"
      ],
      "metadata": {
        "id": "b6KcRCkMVZ6w"
      },
      "execution_count": 7,
      "outputs": []
    },
    {
      "cell_type": "code",
      "source": [
        "data['price'] = data['price'].replace(r'[^\\d]','',regex=True).astype(float)"
      ],
      "metadata": {
        "id": "1X8xeCvFTgdQ"
      },
      "execution_count": 8,
      "outputs": []
    },
    {
      "cell_type": "code",
      "source": [
        "data.isna().sum()"
      ],
      "metadata": {
        "colab": {
          "base_uri": "https://localhost:8080/",
          "height": 304
        },
        "id": "lDhCRAODUKeo",
        "outputId": "7cf35d44-668d-4e39-d0c8-e23058860ff7"
      },
      "execution_count": 9,
      "outputs": [
        {
          "output_type": "execute_result",
          "data": {
            "text/plain": [
              "name        0\n",
              "ratings     0\n",
              "price       0\n",
              "imgURL      0\n",
              "corpus     12\n",
              "user_id     0\n",
              "item_id     0\n",
              "dtype: int64"
            ],
            "text/html": [
              "<div>\n",
              "<style scoped>\n",
              "    .dataframe tbody tr th:only-of-type {\n",
              "        vertical-align: middle;\n",
              "    }\n",
              "\n",
              "    .dataframe tbody tr th {\n",
              "        vertical-align: top;\n",
              "    }\n",
              "\n",
              "    .dataframe thead th {\n",
              "        text-align: right;\n",
              "    }\n",
              "</style>\n",
              "<table border=\"1\" class=\"dataframe\">\n",
              "  <thead>\n",
              "    <tr style=\"text-align: right;\">\n",
              "      <th></th>\n",
              "      <th>0</th>\n",
              "    </tr>\n",
              "  </thead>\n",
              "  <tbody>\n",
              "    <tr>\n",
              "      <th>name</th>\n",
              "      <td>0</td>\n",
              "    </tr>\n",
              "    <tr>\n",
              "      <th>ratings</th>\n",
              "      <td>0</td>\n",
              "    </tr>\n",
              "    <tr>\n",
              "      <th>price</th>\n",
              "      <td>0</td>\n",
              "    </tr>\n",
              "    <tr>\n",
              "      <th>imgURL</th>\n",
              "      <td>0</td>\n",
              "    </tr>\n",
              "    <tr>\n",
              "      <th>corpus</th>\n",
              "      <td>12</td>\n",
              "    </tr>\n",
              "    <tr>\n",
              "      <th>user_id</th>\n",
              "      <td>0</td>\n",
              "    </tr>\n",
              "    <tr>\n",
              "      <th>item_id</th>\n",
              "      <td>0</td>\n",
              "    </tr>\n",
              "  </tbody>\n",
              "</table>\n",
              "</div><br><label><b>dtype:</b> int64</label>"
            ]
          },
          "metadata": {},
          "execution_count": 9
        }
      ]
    },
    {
      "cell_type": "code",
      "source": [
        "data.dropna(inplace=True)"
      ],
      "metadata": {
        "id": "KHfKSfa2Vyez"
      },
      "execution_count": 10,
      "outputs": []
    },
    {
      "cell_type": "code",
      "source": [
        "reader = Reader(rating_scale = (1, 5))\n",
        "surprise_data = Dataset.load_from_df(data[['user_id','item_id', 'ratings']],reader)"
      ],
      "metadata": {
        "id": "zSDOA_rDV3Ud"
      },
      "execution_count": 11,
      "outputs": []
    },
    {
      "cell_type": "code",
      "source": [
        "train_set, test_set = train_test_split(surprise_data, test_size = 0.2, random_state = 42)"
      ],
      "metadata": {
        "id": "_VYGijfTWGG2"
      },
      "execution_count": 12,
      "outputs": []
    },
    {
      "cell_type": "code",
      "source": [
        "model = SVD()\n",
        "model.fit(train_set)"
      ],
      "metadata": {
        "colab": {
          "base_uri": "https://localhost:8080/"
        },
        "id": "9XlzcoJ8WxTc",
        "outputId": "8c38ade9-aee9-4c67-e314-0314b9933389"
      },
      "execution_count": 13,
      "outputs": [
        {
          "output_type": "execute_result",
          "data": {
            "text/plain": [
              "<surprise.prediction_algorithms.matrix_factorization.SVD at 0x795d61c4dc00>"
            ]
          },
          "metadata": {},
          "execution_count": 13
        }
      ]
    },
    {
      "cell_type": "code",
      "source": [
        "pred = model.test(test_set)"
      ],
      "metadata": {
        "id": "wjbhPUEZW4xP"
      },
      "execution_count": 14,
      "outputs": []
    },
    {
      "cell_type": "code",
      "source": [
        "rmse = accuracy.rmse(pred)\n",
        "print('Root Mean Squared Error:',rmse)"
      ],
      "metadata": {
        "colab": {
          "base_uri": "https://localhost:8080/"
        },
        "id": "u0XyxtVxW-_L",
        "outputId": "0dbe7caa-f255-4a5c-cfab-baefb1c885ce"
      },
      "execution_count": 15,
      "outputs": [
        {
          "output_type": "stream",
          "name": "stdout",
          "text": [
            "RMSE: 0.1945\n",
            "Root Mean Squared Error: 0.19454014977001388\n"
          ]
        }
      ]
    },
    {
      "cell_type": "code",
      "source": [
        "def recommend(user_id, n=5):\n",
        "  all_items = data['item_id'].unique()\n",
        "  rated_items = data[data['user_id'] == user_id]['item_id']\n",
        "  unrated_items = [item for item in all_items if item not in rated_items]\n",
        "\n",
        "  predictions = [(item, model.predict(user_id, item).est) for item in unrated_items]\n",
        "\n",
        "  top_n = sorted(predictions, key = lambda x:x[1],reverse = True)[:n]\n",
        "  return top_n"
      ],
      "metadata": {
        "id": "5bgq_yChXQTc"
      },
      "execution_count": 16,
      "outputs": []
    },
    {
      "cell_type": "code",
      "source": [
        "user_id = 1\n",
        "top_recommendations = recommend(user_id)"
      ],
      "metadata": {
        "id": "5nISjS62ZAeX"
      },
      "execution_count": 17,
      "outputs": []
    },
    {
      "cell_type": "code",
      "source": [
        "print(f\"\\nTop-5 Recommendations for User {user_id}:\")\n",
        "for item, rating in top_recommendations:\n",
        "    print(f\"Item {item} with predicted rating {rating:.2f}\")"
      ],
      "metadata": {
        "colab": {
          "base_uri": "https://localhost:8080/"
        },
        "id": "qq90_sgoZet_",
        "outputId": "b5636ad7-ad7c-4ada-b519-53d0ec522bab"
      },
      "execution_count": 18,
      "outputs": [
        {
          "output_type": "stream",
          "name": "stdout",
          "text": [
            "\n",
            "Top-5 Recommendations for User 1:\n",
            "Item 1937 with predicted rating 4.50\n",
            "Item 1571 with predicted rating 4.49\n",
            "Item 329 with predicted rating 4.48\n",
            "Item 1930 with predicted rating 4.48\n",
            "Item 1063 with predicted rating 4.48\n"
          ]
        }
      ]
    },
    {
      "cell_type": "code",
      "source": [],
      "metadata": {
        "id": "EbSn5JuiZh-B"
      },
      "execution_count": 18,
      "outputs": []
    }
  ]
}